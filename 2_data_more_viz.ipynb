{
  "cells": [
    {
      "cell_type": "code",
      "execution_count": 1,
      "id": "bcd97813-9620-4470-80b5-5d9cb12e1b42",
      "metadata": {
        "id": "bcd97813-9620-4470-80b5-5d9cb12e1b42"
      },
      "outputs": [],
      "source": [
        "import pandas as pd\n",
        "import seaborn as sns\n",
        "from scipy.stats import norm\n",
        "%matplotlib inline"
      ]
    },
    {
      "cell_type": "code",
      "execution_count": 2,
      "id": "e8647aff-6d01-4bb9-b6a6-a3ad65933de1",
      "metadata": {
        "id": "e8647aff-6d01-4bb9-b6a6-a3ad65933de1"
      },
      "outputs": [],
      "source": [
        "# GLOBAL VAR\n",
        "PATH = './'"
      ]
    },
    {
      "cell_type": "code",
      "execution_count": 3,
      "id": "9e5f8eb1-5a97-4210-b854-9515a9d096eb",
      "metadata": {
        "colab": {
          "base_uri": "https://localhost:8080/",
          "height": 236
        },
        "id": "9e5f8eb1-5a97-4210-b854-9515a9d096eb",
        "outputId": "9d453777-0905-4ffa-ee95-c2e03949e444"
      },
      "outputs": [
        {
          "output_type": "execute_result",
          "data": {
            "text/plain": [
              "   LIMIT_BAL  SEX  EDUCATION  MARRIAGE  AGE  PAY_1  PAY_2  PAY_3  PAY_4  \\\n",
              "0     140000    2        2.0         2   35      0      0      0      0   \n",
              "1      40000    2        3.0         1   24      1      8      7      6   \n",
              "2      50000    1        3.0         1   51     -1     -1     -1     -1   \n",
              "3      90000    2        1.0         2   29     -1     -1     -1     -1   \n",
              "4      50000    1        2.0         3   52      0      0      0      0   \n",
              "\n",
              "   PAY_5  ...  BILL_AMT4  BILL_AMT5  BILL_AMT6  PAY_AMT1  PAY_AMT2  PAY_AMT3  \\\n",
              "0      0  ...    93606.0    95301.0    96653.0    3280.0    4270.0    3500.0   \n",
              "1      5  ...    24579.0    23635.0    22680.0       0.0       0.0       0.0   \n",
              "2     -1  ...     8500.0        0.0        0.0   13902.0   42863.0    8500.0   \n",
              "3      0  ...     3199.0     1888.0        0.0    6198.0     200.0    3199.0   \n",
              "4      0  ...    10683.0     9953.0     9567.0    2500.0    1500.0    1300.0   \n",
              "\n",
              "   PAY_AMT4  PAY_AMT5  PAY_AMT6  default  \n",
              "0    3606.0    3500.0    3550.0        0  \n",
              "1       0.0       0.0       0.0        0  \n",
              "2       0.0       0.0       0.0        0  \n",
              "3       0.0       0.0       0.0        0  \n",
              "4     800.0    1000.0    1500.0        0  \n",
              "\n",
              "[5 rows x 24 columns]"
            ],
            "text/html": [
              "\n",
              "  <div id=\"df-0c9e59c8-3bff-412c-818a-78ac6de3a34a\" class=\"colab-df-container\">\n",
              "    <div>\n",
              "<style scoped>\n",
              "    .dataframe tbody tr th:only-of-type {\n",
              "        vertical-align: middle;\n",
              "    }\n",
              "\n",
              "    .dataframe tbody tr th {\n",
              "        vertical-align: top;\n",
              "    }\n",
              "\n",
              "    .dataframe thead th {\n",
              "        text-align: right;\n",
              "    }\n",
              "</style>\n",
              "<table border=\"1\" class=\"dataframe\">\n",
              "  <thead>\n",
              "    <tr style=\"text-align: right;\">\n",
              "      <th></th>\n",
              "      <th>LIMIT_BAL</th>\n",
              "      <th>SEX</th>\n",
              "      <th>EDUCATION</th>\n",
              "      <th>MARRIAGE</th>\n",
              "      <th>AGE</th>\n",
              "      <th>PAY_1</th>\n",
              "      <th>PAY_2</th>\n",
              "      <th>PAY_3</th>\n",
              "      <th>PAY_4</th>\n",
              "      <th>PAY_5</th>\n",
              "      <th>...</th>\n",
              "      <th>BILL_AMT4</th>\n",
              "      <th>BILL_AMT5</th>\n",
              "      <th>BILL_AMT6</th>\n",
              "      <th>PAY_AMT1</th>\n",
              "      <th>PAY_AMT2</th>\n",
              "      <th>PAY_AMT3</th>\n",
              "      <th>PAY_AMT4</th>\n",
              "      <th>PAY_AMT5</th>\n",
              "      <th>PAY_AMT6</th>\n",
              "      <th>default</th>\n",
              "    </tr>\n",
              "  </thead>\n",
              "  <tbody>\n",
              "    <tr>\n",
              "      <th>0</th>\n",
              "      <td>140000</td>\n",
              "      <td>2</td>\n",
              "      <td>2.0</td>\n",
              "      <td>2</td>\n",
              "      <td>35</td>\n",
              "      <td>0</td>\n",
              "      <td>0</td>\n",
              "      <td>0</td>\n",
              "      <td>0</td>\n",
              "      <td>0</td>\n",
              "      <td>...</td>\n",
              "      <td>93606.0</td>\n",
              "      <td>95301.0</td>\n",
              "      <td>96653.0</td>\n",
              "      <td>3280.0</td>\n",
              "      <td>4270.0</td>\n",
              "      <td>3500.0</td>\n",
              "      <td>3606.0</td>\n",
              "      <td>3500.0</td>\n",
              "      <td>3550.0</td>\n",
              "      <td>0</td>\n",
              "    </tr>\n",
              "    <tr>\n",
              "      <th>1</th>\n",
              "      <td>40000</td>\n",
              "      <td>2</td>\n",
              "      <td>3.0</td>\n",
              "      <td>1</td>\n",
              "      <td>24</td>\n",
              "      <td>1</td>\n",
              "      <td>8</td>\n",
              "      <td>7</td>\n",
              "      <td>6</td>\n",
              "      <td>5</td>\n",
              "      <td>...</td>\n",
              "      <td>24579.0</td>\n",
              "      <td>23635.0</td>\n",
              "      <td>22680.0</td>\n",
              "      <td>0.0</td>\n",
              "      <td>0.0</td>\n",
              "      <td>0.0</td>\n",
              "      <td>0.0</td>\n",
              "      <td>0.0</td>\n",
              "      <td>0.0</td>\n",
              "      <td>0</td>\n",
              "    </tr>\n",
              "    <tr>\n",
              "      <th>2</th>\n",
              "      <td>50000</td>\n",
              "      <td>1</td>\n",
              "      <td>3.0</td>\n",
              "      <td>1</td>\n",
              "      <td>51</td>\n",
              "      <td>-1</td>\n",
              "      <td>-1</td>\n",
              "      <td>-1</td>\n",
              "      <td>-1</td>\n",
              "      <td>-1</td>\n",
              "      <td>...</td>\n",
              "      <td>8500.0</td>\n",
              "      <td>0.0</td>\n",
              "      <td>0.0</td>\n",
              "      <td>13902.0</td>\n",
              "      <td>42863.0</td>\n",
              "      <td>8500.0</td>\n",
              "      <td>0.0</td>\n",
              "      <td>0.0</td>\n",
              "      <td>0.0</td>\n",
              "      <td>0</td>\n",
              "    </tr>\n",
              "    <tr>\n",
              "      <th>3</th>\n",
              "      <td>90000</td>\n",
              "      <td>2</td>\n",
              "      <td>1.0</td>\n",
              "      <td>2</td>\n",
              "      <td>29</td>\n",
              "      <td>-1</td>\n",
              "      <td>-1</td>\n",
              "      <td>-1</td>\n",
              "      <td>-1</td>\n",
              "      <td>0</td>\n",
              "      <td>...</td>\n",
              "      <td>3199.0</td>\n",
              "      <td>1888.0</td>\n",
              "      <td>0.0</td>\n",
              "      <td>6198.0</td>\n",
              "      <td>200.0</td>\n",
              "      <td>3199.0</td>\n",
              "      <td>0.0</td>\n",
              "      <td>0.0</td>\n",
              "      <td>0.0</td>\n",
              "      <td>0</td>\n",
              "    </tr>\n",
              "    <tr>\n",
              "      <th>4</th>\n",
              "      <td>50000</td>\n",
              "      <td>1</td>\n",
              "      <td>2.0</td>\n",
              "      <td>3</td>\n",
              "      <td>52</td>\n",
              "      <td>0</td>\n",
              "      <td>0</td>\n",
              "      <td>0</td>\n",
              "      <td>0</td>\n",
              "      <td>0</td>\n",
              "      <td>...</td>\n",
              "      <td>10683.0</td>\n",
              "      <td>9953.0</td>\n",
              "      <td>9567.0</td>\n",
              "      <td>2500.0</td>\n",
              "      <td>1500.0</td>\n",
              "      <td>1300.0</td>\n",
              "      <td>800.0</td>\n",
              "      <td>1000.0</td>\n",
              "      <td>1500.0</td>\n",
              "      <td>0</td>\n",
              "    </tr>\n",
              "  </tbody>\n",
              "</table>\n",
              "<p>5 rows × 24 columns</p>\n",
              "</div>\n",
              "    <div class=\"colab-df-buttons\">\n",
              "\n",
              "  <div class=\"colab-df-container\">\n",
              "    <button class=\"colab-df-convert\" onclick=\"convertToInteractive('df-0c9e59c8-3bff-412c-818a-78ac6de3a34a')\"\n",
              "            title=\"Convert this dataframe to an interactive table.\"\n",
              "            style=\"display:none;\">\n",
              "\n",
              "  <svg xmlns=\"http://www.w3.org/2000/svg\" height=\"24px\" viewBox=\"0 -960 960 960\">\n",
              "    <path d=\"M120-120v-720h720v720H120Zm60-500h600v-160H180v160Zm220 220h160v-160H400v160Zm0 220h160v-160H400v160ZM180-400h160v-160H180v160Zm440 0h160v-160H620v160ZM180-180h160v-160H180v160Zm440 0h160v-160H620v160Z\"/>\n",
              "  </svg>\n",
              "    </button>\n",
              "\n",
              "  <style>\n",
              "    .colab-df-container {\n",
              "      display:flex;\n",
              "      gap: 12px;\n",
              "    }\n",
              "\n",
              "    .colab-df-convert {\n",
              "      background-color: #E8F0FE;\n",
              "      border: none;\n",
              "      border-radius: 50%;\n",
              "      cursor: pointer;\n",
              "      display: none;\n",
              "      fill: #1967D2;\n",
              "      height: 32px;\n",
              "      padding: 0 0 0 0;\n",
              "      width: 32px;\n",
              "    }\n",
              "\n",
              "    .colab-df-convert:hover {\n",
              "      background-color: #E2EBFA;\n",
              "      box-shadow: 0px 1px 2px rgba(60, 64, 67, 0.3), 0px 1px 3px 1px rgba(60, 64, 67, 0.15);\n",
              "      fill: #174EA6;\n",
              "    }\n",
              "\n",
              "    .colab-df-buttons div {\n",
              "      margin-bottom: 4px;\n",
              "    }\n",
              "\n",
              "    [theme=dark] .colab-df-convert {\n",
              "      background-color: #3B4455;\n",
              "      fill: #D2E3FC;\n",
              "    }\n",
              "\n",
              "    [theme=dark] .colab-df-convert:hover {\n",
              "      background-color: #434B5C;\n",
              "      box-shadow: 0px 1px 3px 1px rgba(0, 0, 0, 0.15);\n",
              "      filter: drop-shadow(0px 1px 2px rgba(0, 0, 0, 0.3));\n",
              "      fill: #FFFFFF;\n",
              "    }\n",
              "  </style>\n",
              "\n",
              "    <script>\n",
              "      const buttonEl =\n",
              "        document.querySelector('#df-0c9e59c8-3bff-412c-818a-78ac6de3a34a button.colab-df-convert');\n",
              "      buttonEl.style.display =\n",
              "        google.colab.kernel.accessAllowed ? 'block' : 'none';\n",
              "\n",
              "      async function convertToInteractive(key) {\n",
              "        const element = document.querySelector('#df-0c9e59c8-3bff-412c-818a-78ac6de3a34a');\n",
              "        const dataTable =\n",
              "          await google.colab.kernel.invokeFunction('convertToInteractive',\n",
              "                                                    [key], {});\n",
              "        if (!dataTable) return;\n",
              "\n",
              "        const docLinkHtml = 'Like what you see? Visit the ' +\n",
              "          '<a target=\"_blank\" href=https://colab.research.google.com/notebooks/data_table.ipynb>data table notebook</a>'\n",
              "          + ' to learn more about interactive tables.';\n",
              "        element.innerHTML = '';\n",
              "        dataTable['output_type'] = 'display_data';\n",
              "        await google.colab.output.renderOutput(dataTable, element);\n",
              "        const docLink = document.createElement('div');\n",
              "        docLink.innerHTML = docLinkHtml;\n",
              "        element.appendChild(docLink);\n",
              "      }\n",
              "    </script>\n",
              "  </div>\n",
              "\n",
              "\n",
              "<div id=\"df-0b14a930-78ca-44c5-8d67-3c53cb267065\">\n",
              "  <button class=\"colab-df-quickchart\" onclick=\"quickchart('df-0b14a930-78ca-44c5-8d67-3c53cb267065')\"\n",
              "            title=\"Suggest charts\"\n",
              "            style=\"display:none;\">\n",
              "\n",
              "<svg xmlns=\"http://www.w3.org/2000/svg\" height=\"24px\"viewBox=\"0 0 24 24\"\n",
              "     width=\"24px\">\n",
              "    <g>\n",
              "        <path d=\"M19 3H5c-1.1 0-2 .9-2 2v14c0 1.1.9 2 2 2h14c1.1 0 2-.9 2-2V5c0-1.1-.9-2-2-2zM9 17H7v-7h2v7zm4 0h-2V7h2v10zm4 0h-2v-4h2v4z\"/>\n",
              "    </g>\n",
              "</svg>\n",
              "  </button>\n",
              "\n",
              "<style>\n",
              "  .colab-df-quickchart {\n",
              "      --bg-color: #E8F0FE;\n",
              "      --fill-color: #1967D2;\n",
              "      --hover-bg-color: #E2EBFA;\n",
              "      --hover-fill-color: #174EA6;\n",
              "      --disabled-fill-color: #AAA;\n",
              "      --disabled-bg-color: #DDD;\n",
              "  }\n",
              "\n",
              "  [theme=dark] .colab-df-quickchart {\n",
              "      --bg-color: #3B4455;\n",
              "      --fill-color: #D2E3FC;\n",
              "      --hover-bg-color: #434B5C;\n",
              "      --hover-fill-color: #FFFFFF;\n",
              "      --disabled-bg-color: #3B4455;\n",
              "      --disabled-fill-color: #666;\n",
              "  }\n",
              "\n",
              "  .colab-df-quickchart {\n",
              "    background-color: var(--bg-color);\n",
              "    border: none;\n",
              "    border-radius: 50%;\n",
              "    cursor: pointer;\n",
              "    display: none;\n",
              "    fill: var(--fill-color);\n",
              "    height: 32px;\n",
              "    padding: 0;\n",
              "    width: 32px;\n",
              "  }\n",
              "\n",
              "  .colab-df-quickchart:hover {\n",
              "    background-color: var(--hover-bg-color);\n",
              "    box-shadow: 0 1px 2px rgba(60, 64, 67, 0.3), 0 1px 3px 1px rgba(60, 64, 67, 0.15);\n",
              "    fill: var(--button-hover-fill-color);\n",
              "  }\n",
              "\n",
              "  .colab-df-quickchart-complete:disabled,\n",
              "  .colab-df-quickchart-complete:disabled:hover {\n",
              "    background-color: var(--disabled-bg-color);\n",
              "    fill: var(--disabled-fill-color);\n",
              "    box-shadow: none;\n",
              "  }\n",
              "\n",
              "  .colab-df-spinner {\n",
              "    border: 2px solid var(--fill-color);\n",
              "    border-color: transparent;\n",
              "    border-bottom-color: var(--fill-color);\n",
              "    animation:\n",
              "      spin 1s steps(1) infinite;\n",
              "  }\n",
              "\n",
              "  @keyframes spin {\n",
              "    0% {\n",
              "      border-color: transparent;\n",
              "      border-bottom-color: var(--fill-color);\n",
              "      border-left-color: var(--fill-color);\n",
              "    }\n",
              "    20% {\n",
              "      border-color: transparent;\n",
              "      border-left-color: var(--fill-color);\n",
              "      border-top-color: var(--fill-color);\n",
              "    }\n",
              "    30% {\n",
              "      border-color: transparent;\n",
              "      border-left-color: var(--fill-color);\n",
              "      border-top-color: var(--fill-color);\n",
              "      border-right-color: var(--fill-color);\n",
              "    }\n",
              "    40% {\n",
              "      border-color: transparent;\n",
              "      border-right-color: var(--fill-color);\n",
              "      border-top-color: var(--fill-color);\n",
              "    }\n",
              "    60% {\n",
              "      border-color: transparent;\n",
              "      border-right-color: var(--fill-color);\n",
              "    }\n",
              "    80% {\n",
              "      border-color: transparent;\n",
              "      border-right-color: var(--fill-color);\n",
              "      border-bottom-color: var(--fill-color);\n",
              "    }\n",
              "    90% {\n",
              "      border-color: transparent;\n",
              "      border-bottom-color: var(--fill-color);\n",
              "    }\n",
              "  }\n",
              "</style>\n",
              "\n",
              "  <script>\n",
              "    async function quickchart(key) {\n",
              "      const quickchartButtonEl =\n",
              "        document.querySelector('#' + key + ' button');\n",
              "      quickchartButtonEl.disabled = true;  // To prevent multiple clicks.\n",
              "      quickchartButtonEl.classList.add('colab-df-spinner');\n",
              "      try {\n",
              "        const charts = await google.colab.kernel.invokeFunction(\n",
              "            'suggestCharts', [key], {});\n",
              "      } catch (error) {\n",
              "        console.error('Error during call to suggestCharts:', error);\n",
              "      }\n",
              "      quickchartButtonEl.classList.remove('colab-df-spinner');\n",
              "      quickchartButtonEl.classList.add('colab-df-quickchart-complete');\n",
              "    }\n",
              "    (() => {\n",
              "      let quickchartButtonEl =\n",
              "        document.querySelector('#df-0b14a930-78ca-44c5-8d67-3c53cb267065 button');\n",
              "      quickchartButtonEl.style.display =\n",
              "        google.colab.kernel.accessAllowed ? 'block' : 'none';\n",
              "    })();\n",
              "  </script>\n",
              "</div>\n",
              "    </div>\n",
              "  </div>\n"
            ]
          },
          "metadata": {},
          "execution_count": 3
        }
      ],
      "source": [
        "df = pd.read_csv(PATH+'data_training.csv')\n",
        "df.head()"
      ]
    },
    {
      "cell_type": "markdown",
      "id": "3609420e-ce45-4486-a7a4-79545ae56394",
      "metadata": {
        "id": "3609420e-ce45-4486-a7a4-79545ae56394"
      },
      "source": [
        "# OUTLIERS & NORMALITY check"
      ]
    },
    {
      "cell_type": "code",
      "execution_count": 4,
      "id": "c669db12-4629-445e-9d6c-8346193b2aa5",
      "metadata": {
        "colab": {
          "base_uri": "https://localhost:8080/",
          "height": 447
        },
        "id": "c669db12-4629-445e-9d6c-8346193b2aa5",
        "outputId": "4bbf4ac7-d075-4179-b1c1-57a5c969e2e5"
      },
      "outputs": [
        {
          "output_type": "execute_result",
          "data": {
            "text/plain": [
              "<Axes: >"
            ]
          },
          "metadata": {},
          "execution_count": 4
        },
        {
          "output_type": "display_data",
          "data": {
            "text/plain": [
              "<Figure size 640x480 with 1 Axes>"
            ],
            "image/png": "[encoded data removed]"
          },
          "metadata": {}
        }
      ],
      "source": [
        "field = 'LIMIT_BAL'\n",
        "sns.boxplot(df[field])"
      ]
    },
    {
      "cell_type": "code",
      "execution_count": 16,
      "id": "4d902936-5d43-46ce-8df1-b7663d8f051d",
      "metadata": {
        "colab": {
          "base_uri": "https://localhost:8080/",
          "height": 466
        },
        "id": "4d902936-5d43-46ce-8df1-b7663d8f051d",
        "outputId": "cdd8aad6-3f5e-449b-ad3e-14880120f375"
      },
      "outputs": [
        {
          "output_type": "execute_result",
          "data": {
            "text/plain": [
              "<Axes: xlabel='AGE', ylabel='Count'>"
            ]
          },
          "metadata": {},
          "execution_count": 16
        },
        {
          "output_type": "display_data",
          "data": {
            "text/plain": [
              "<Figure size 640x480 with 1 Axes>"
            ],
            "image/png": "[encoded data removed]"
          },
          "metadata": {}
        }
      ],
      "source": [
        "# transformation -> Gaussian\n",
        "sns.histplot(df[field])"
      ]
    },
    {
      "cell_type": "code",
      "execution_count": 6,
      "id": "ac38d607-a941-4ec5-b6d7-c7057bf941f9",
      "metadata": {
        "colab": {
          "base_uri": "https://localhost:8080/",
          "height": 447
        },
        "id": "ac38d607-a941-4ec5-b6d7-c7057bf941f9",
        "outputId": "30431d55-80bb-40a1-e8e3-513afb927a1b"
      },
      "outputs": [
        {
          "output_type": "execute_result",
          "data": {
            "text/plain": [
              "<Axes: >"
            ]
          },
          "metadata": {},
          "execution_count": 6
        },
        {
          "output_type": "display_data",
          "data": {
            "text/plain": [
              "<Figure size 640x480 with 1 Axes>"
            ],
            "image/png": "[encoded data removed]"
          },
          "metadata": {}
        }
      ],
      "source": [
        "field = 'AGE'\n",
        "sns.boxplot(df[field])"
      ]
    },
    {
      "cell_type": "code",
      "execution_count": 17,
      "id": "7b3e616e-f94f-4fde-a1ed-62ef132f6f10",
      "metadata": {
        "colab": {
          "base_uri": "https://localhost:8080/",
          "height": 466
        },
        "id": "7b3e616e-f94f-4fde-a1ed-62ef132f6f10",
        "outputId": "50001322-7b32-44d4-939f-99321a86c697"
      },
      "outputs": [
        {
          "output_type": "execute_result",
          "data": {
            "text/plain": [
              "<Axes: xlabel='AGE', ylabel='Count'>"
            ]
          },
          "metadata": {},
          "execution_count": 17
        },
        {
          "output_type": "display_data",
          "data": {
            "text/plain": [
              "<Figure size 640x480 with 1 Axes>"
            ],
            "image/png": "[encoded data removed]"
          },
          "metadata": {}
        }
      ],
      "source": [
        "# transformation -> Gaussian\n",
        "sns.histplot(df[field])"
      ]
    },
    {
      "cell_type": "markdown",
      "id": "5cd13838-bc20-42aa-aea1-7eba66844011",
      "metadata": {
        "id": "5cd13838-bc20-42aa-aea1-7eba66844011"
      },
      "source": [
        "# RARE LEVELS check"
      ]
    },
    {
      "cell_type": "code",
      "execution_count": 10,
      "id": "e9ef9f3c-393c-4840-a4ab-9752ae49cc89",
      "metadata": {
        "colab": {
          "base_uri": "https://localhost:8080/"
        },
        "id": "e9ef9f3c-393c-4840-a4ab-9752ae49cc89",
        "outputId": "bbce81d7-a4ff-4692-b3e7-df29ab6417d5"
      },
      "outputs": [
        {
          "output_type": "stream",
          "name": "stdout",
          "text": [
            "2.0    0.466354\n",
            "1.0    0.351406\n",
            "3.0    0.162917\n",
            "5.0    0.009167\n",
            "4.0    0.004010\n",
            "6.0    0.001875\n",
            "0.0    0.000417\n",
            "Name: EDUCATION, dtype: float64\n",
            "2.0      0.466354\n",
            "1.0      0.351406\n",
            "3.0      0.162917\n",
            "other    0.015469\n",
            "Name: EDUCATION, dtype: float64\n"
          ]
        }
      ],
      "source": [
        "# rare levels EDUCATION\n",
        "print(df['EDUCATION'].value_counts()/df.shape[0])\n",
        "ind = df['EDUCATION'].isin([0, 4, 5, 6])\n",
        "df.loc[ind, 'EDUCATION'] = 'other'\n",
        "print(df['EDUCATION'].value_counts()/df.shape[0])"
      ]
    },
    {
      "cell_type": "code",
      "execution_count": 11,
      "id": "2641801a-376a-4388-baf1-9c942a2f25fc",
      "metadata": {
        "colab": {
          "base_uri": "https://localhost:8080/"
        },
        "id": "2641801a-376a-4388-baf1-9c942a2f25fc",
        "outputId": "6f66f4b9-a6bb-4e0c-bfe6-f0f568a009ed"
      },
      "outputs": [
        {
          "output_type": "stream",
          "name": "stdout",
          "text": [
            "2    0.532656\n",
            "1    0.455000\n",
            "3    0.010625\n",
            "0    0.001719\n",
            "Name: MARRIAGE, dtype: float64\n",
            "2        0.532656\n",
            "1        0.455000\n",
            "other    0.012344\n",
            "Name: MARRIAGE, dtype: float64\n"
          ]
        }
      ],
      "source": [
        "# rare levels MARRIAGE\n",
        "print(df['MARRIAGE'].value_counts()/df.shape[0])\n",
        "ind = df['MARRIAGE'].isin([0, 3])\n",
        "df.loc[ind, 'MARRIAGE'] = 'other'\n",
        "print(df['MARRIAGE'].value_counts()/df.shape[0])"
      ]
    },
    {
      "cell_type": "code",
      "execution_count": 12,
      "id": "2302ec01-414f-48b8-a651-ac85c039f0cf",
      "metadata": {
        "colab": {
          "base_uri": "https://localhost:8080/"
        },
        "id": "2302ec01-414f-48b8-a651-ac85c039f0cf",
        "outputId": "57c2f801-ce76-43cb-e32b-7bbb7c4ed46d"
      },
      "outputs": [
        {
          "output_type": "stream",
          "name": "stdout",
          "text": [
            "29    0.054583\n",
            "27    0.049635\n",
            "30    0.046406\n",
            "28    0.045781\n",
            "31    0.040833\n",
            "26    0.040052\n",
            "25    0.039583\n",
            "34    0.039479\n",
            "33    0.039062\n",
            "32    0.038906\n",
            "24    0.038542\n",
            "35    0.036771\n",
            "36    0.035781\n",
            "37    0.033333\n",
            "23    0.033021\n",
            "38    0.032813\n",
            "39    0.032292\n",
            "41    0.027448\n",
            "40    0.027083\n",
            "42    0.025729\n",
            "43    0.023125\n",
            "44    0.023125\n",
            "45    0.020677\n",
            "46    0.018490\n",
            "22    0.018333\n",
            "47    0.016823\n",
            "48    0.016615\n",
            "49    0.015365\n",
            "50    0.014323\n",
            "51    0.011615\n",
            "53    0.011198\n",
            "52    0.009792\n",
            "54    0.007708\n",
            "55    0.006094\n",
            "56    0.005833\n",
            "58    0.003906\n",
            "57    0.003750\n",
            "59    0.002708\n",
            "21    0.002344\n",
            "60    0.002292\n",
            "61    0.001823\n",
            "62    0.001406\n",
            "64    0.001042\n",
            "63    0.000990\n",
            "65    0.000885\n",
            "66    0.000625\n",
            "69    0.000521\n",
            "70    0.000417\n",
            "67    0.000417\n",
            "73    0.000208\n",
            "71    0.000104\n",
            "68    0.000104\n",
            "79    0.000052\n",
            "75    0.000052\n",
            "74    0.000052\n",
            "72    0.000052\n",
            "Name: AGE, dtype: float64\n"
          ]
        }
      ],
      "source": [
        "# rare levels AGE\n",
        "print(df['AGE'].value_counts()/df.shape[0])\n",
        "# ind = df['AGE'].isin([0, 3])\n",
        "# df.loc[ind, 'MARRIAGE'] = 'other'\n",
        "# print(df['MARRIAGE'].value_counts()/df.shape[0])"
      ]
    },
    {
      "cell_type": "code",
      "execution_count": null,
      "id": "4ca20326-ad1e-491a-ae60-1c14e9befa04",
      "metadata": {
        "id": "4ca20326-ad1e-491a-ae60-1c14e9befa04"
      },
      "outputs": [],
      "source": []
    }
  ],
  "metadata": {
    "kernelspec": {
      "display_name": "Python 3 (ipykernel)",
      "language": "python",
      "name": "python3"
    },
    "language_info": {
      "codemirror_mode": {
        "name": "ipython",
        "version": 3
      },
      "file_extension": ".py",
      "mimetype": "text/x-python",
      "name": "python",
      "nbconvert_exporter": "python",
      "pygments_lexer": "ipython3",
      "version": "3.7.11"
    },
    "colab": {
      "provenance": []
    }
  },
  "nbformat": 4,
  "nbformat_minor": 5
}